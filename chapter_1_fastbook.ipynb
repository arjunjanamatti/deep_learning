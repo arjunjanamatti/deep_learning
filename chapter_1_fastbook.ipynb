{
  "nbformat": 4,
  "nbformat_minor": 0,
  "metadata": {
    "colab": {
      "name": "Untitled10.ipynb",
      "provenance": [],
      "authorship_tag": "ABX9TyPAMSuNN0OSf0gayr2VdU7K",
      "include_colab_link": true
    },
    "kernelspec": {
      "name": "python3",
      "display_name": "Python 3"
    },
    "language_info": {
      "name": "python"
    }
  },
  "cells": [
    {
      "cell_type": "markdown",
      "metadata": {
        "id": "view-in-github",
        "colab_type": "text"
      },
      "source": [
        "<a href=\"https://colab.research.google.com/github/arjunjanamatti/deep_learning/blob/master/chapter_1_fastbook.ipynb\" target=\"_parent\"><img src=\"https://colab.research.google.com/assets/colab-badge.svg\" alt=\"Open In Colab\"/></a>"
      ]
    },
    {
      "cell_type": "code",
      "execution_count": 1,
      "metadata": {
        "colab": {
          "base_uri": "https://localhost:8080/"
        },
        "id": "QPi89RxaEjAL",
        "outputId": "64c7e016-662a-49a6-92ec-21a7627dcde2"
      },
      "outputs": [
        {
          "output_type": "stream",
          "name": "stdout",
          "text": [
            "\u001b[K     |████████████████████████████████| 719 kB 4.0 MB/s \n",
            "\u001b[K     |████████████████████████████████| 4.7 MB 49.1 MB/s \n",
            "\u001b[K     |████████████████████████████████| 365 kB 70.3 MB/s \n",
            "\u001b[K     |████████████████████████████████| 1.2 MB 64.2 MB/s \n",
            "\u001b[K     |████████████████████████████████| 115 kB 64.8 MB/s \n",
            "\u001b[K     |████████████████████████████████| 141 kB 66.7 MB/s \n",
            "\u001b[K     |████████████████████████████████| 212 kB 63.4 MB/s \n",
            "\u001b[K     |████████████████████████████████| 101 kB 13.5 MB/s \n",
            "\u001b[K     |████████████████████████████████| 596 kB 68.6 MB/s \n",
            "\u001b[K     |████████████████████████████████| 127 kB 65.0 MB/s \n",
            "\u001b[K     |████████████████████████████████| 6.6 MB 47.1 MB/s \n",
            "\u001b[?25hMounted at /content/gdrive\n"
          ]
        }
      ],
      "source": [
        "#hide\n",
        "! [ -e /content ] && pip install -Uqq fastbook\n",
        "import fastbook\n",
        "fastbook.setup_book()"
      ]
    },
    {
      "cell_type": "code",
      "source": [
        ""
      ],
      "metadata": {
        "id": "9lkEy-IgEnhu"
      },
      "execution_count": null,
      "outputs": []
    },
    {
      "cell_type": "code",
      "source": [
        ""
      ],
      "metadata": {
        "id": "4XZFSDDxE802"
      },
      "execution_count": null,
      "outputs": []
    }
  ]
}